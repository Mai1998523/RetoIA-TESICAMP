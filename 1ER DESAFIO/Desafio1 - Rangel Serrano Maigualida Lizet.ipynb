{
 "cells": [
  {
   "cell_type": "code",
   "execution_count": 1,
   "id": "4df9717c",
   "metadata": {},
   "outputs": [
    {
     "data": {
      "text/html": [
       "<div>\n",
       "<style scoped>\n",
       "    .dataframe tbody tr th:only-of-type {\n",
       "        vertical-align: middle;\n",
       "    }\n",
       "\n",
       "    .dataframe tbody tr th {\n",
       "        vertical-align: top;\n",
       "    }\n",
       "\n",
       "    .dataframe thead th {\n",
       "        text-align: right;\n",
       "    }\n",
       "</style>\n",
       "<table border=\"1\" class=\"dataframe\">\n",
       "  <thead>\n",
       "    <tr style=\"text-align: right;\">\n",
       "      <th></th>\n",
       "      <th>Latitud</th>\n",
       "      <th>Longitud</th>\n",
       "    </tr>\n",
       "  </thead>\n",
       "  <tbody>\n",
       "    <tr>\n",
       "      <th>count</th>\n",
       "      <td>61.000000</td>\n",
       "      <td>61.000000</td>\n",
       "    </tr>\n",
       "    <tr>\n",
       "      <th>mean</th>\n",
       "      <td>19.321186</td>\n",
       "      <td>-98.903862</td>\n",
       "    </tr>\n",
       "    <tr>\n",
       "      <th>std</th>\n",
       "      <td>0.015748</td>\n",
       "      <td>0.031403</td>\n",
       "    </tr>\n",
       "    <tr>\n",
       "      <th>min</th>\n",
       "      <td>19.292192</td>\n",
       "      <td>-98.947491</td>\n",
       "    </tr>\n",
       "    <tr>\n",
       "      <th>25%</th>\n",
       "      <td>19.311296</td>\n",
       "      <td>-98.930115</td>\n",
       "    </tr>\n",
       "    <tr>\n",
       "      <th>50%</th>\n",
       "      <td>19.320622</td>\n",
       "      <td>-98.909760</td>\n",
       "    </tr>\n",
       "    <tr>\n",
       "      <th>75%</th>\n",
       "      <td>19.327468</td>\n",
       "      <td>-98.887281</td>\n",
       "    </tr>\n",
       "    <tr>\n",
       "      <th>max</th>\n",
       "      <td>19.383466</td>\n",
       "      <td>-98.818836</td>\n",
       "    </tr>\n",
       "  </tbody>\n",
       "</table>\n",
       "</div>"
      ],
      "text/plain": [
       "         Latitud   Longitud\n",
       "count  61.000000  61.000000\n",
       "mean   19.321186 -98.903862\n",
       "std     0.015748   0.031403\n",
       "min    19.292192 -98.947491\n",
       "25%    19.311296 -98.930115\n",
       "50%    19.320622 -98.909760\n",
       "75%    19.327468 -98.887281\n",
       "max    19.383466 -98.818836"
      ]
     },
     "execution_count": 1,
     "metadata": {},
     "output_type": "execute_result"
    }
   ],
   "source": [
    "import pandas as pd\n",
    "import matplotlib.pyplot as plt\n",
    "import seaborn as sns\n",
    "import numpy as np\n",
    "from sklearn.cluster import KMeans\n",
    "from sklearn.metrics import pairwise_distances_argmin_min\n",
    "OMP_NUM_THREADS = 1\n",
    "\n",
    "data = pd.read_csv('coordenadas.csv')  \n",
    "data.describe()"
   ]
  },
  {
   "cell_type": "code",
   "execution_count": 2,
   "id": "84ceb2e5",
   "metadata": {},
   "outputs": [
    {
     "data": {
      "text/html": [
       "<div>\n",
       "<style scoped>\n",
       "    .dataframe tbody tr th:only-of-type {\n",
       "        vertical-align: middle;\n",
       "    }\n",
       "\n",
       "    .dataframe tbody tr th {\n",
       "        vertical-align: top;\n",
       "    }\n",
       "\n",
       "    .dataframe thead th {\n",
       "        text-align: right;\n",
       "    }\n",
       "</style>\n",
       "<table border=\"1\" class=\"dataframe\">\n",
       "  <thead>\n",
       "    <tr style=\"text-align: right;\">\n",
       "      <th></th>\n",
       "      <th>Colonia</th>\n",
       "      <th>Latitud</th>\n",
       "      <th>Longitud</th>\n",
       "    </tr>\n",
       "  </thead>\n",
       "  <tbody>\n",
       "    <tr>\n",
       "      <th>0</th>\n",
       "      <td>Tejolote</td>\n",
       "      <td>19.318263</td>\n",
       "      <td>-98.909562</td>\n",
       "    </tr>\n",
       "    <tr>\n",
       "      <th>1</th>\n",
       "      <td>Plutarco Elías Calles</td>\n",
       "      <td>19.328421</td>\n",
       "      <td>-98.896044</td>\n",
       "    </tr>\n",
       "    <tr>\n",
       "      <th>2</th>\n",
       "      <td>Tlayehuale</td>\n",
       "      <td>19.320700</td>\n",
       "      <td>-98.894735</td>\n",
       "    </tr>\n",
       "    <tr>\n",
       "      <th>3</th>\n",
       "      <td>Jorge Jiménez Cantú</td>\n",
       "      <td>19.309579</td>\n",
       "      <td>-98.846431</td>\n",
       "    </tr>\n",
       "    <tr>\n",
       "      <th>4</th>\n",
       "      <td>Rincón del Bosque</td>\n",
       "      <td>19.319534</td>\n",
       "      <td>-98.928092</td>\n",
       "    </tr>\n",
       "  </tbody>\n",
       "</table>\n",
       "</div>"
      ],
      "text/plain": [
       "                 Colonia    Latitud   Longitud\n",
       "0               Tejolote  19.318263 -98.909562\n",
       "1  Plutarco Elías Calles  19.328421 -98.896044\n",
       "2             Tlayehuale  19.320700 -98.894735\n",
       "3    Jorge Jiménez Cantú  19.309579 -98.846431\n",
       "4      Rincón del Bosque  19.319534 -98.928092"
      ]
     },
     "execution_count": 2,
     "metadata": {},
     "output_type": "execute_result"
    }
   ],
   "source": [
    "data.head()"
   ]
  },
  {
   "cell_type": "code",
   "execution_count": 3,
   "id": "65726e77",
   "metadata": {},
   "outputs": [
    {
     "data": {
      "image/png": "[encoded data removed]",
      "text/plain": [
       "<Figure size 432x288 with 1 Axes>"
      ]
     },
     "metadata": {
      "needs_background": "light"
     },
     "output_type": "display_data"
    }
   ],
   "source": [
    "## Primer paso : Ubicacion de colonias\n",
    "plt.scatter(data['Latitud'], data['Longitud'])\n",
    "plt.xlabel(\"Latitud\")\n",
    "plt.ylabel(\"Longitud\")\n",
    "plt.show()"
   ]
  },
  {
   "cell_type": "code",
   "execution_count": 29,
   "id": "993559fa",
   "metadata": {},
   "outputs": [
    {
     "name": "stderr",
     "output_type": "stream",
     "text": [
      "C:\\Users\\maigu\\anaconda3\\lib\\site-packages\\sklearn\\cluster\\_kmeans.py:881: UserWarning: KMeans is known to have a memory leak on Windows with MKL, when there are less chunks than available threads. You can avoid it by setting the environment variable OMP_NUM_THREADS=1.\n",
      "  warnings.warn(\n"
     ]
    },
    {
     "data": {
      "image/png": "[encoded data removed]",
      "text/plain": [
       "<Figure size 432x288 with 1 Axes>"
      ]
     },
     "metadata": {
      "needs_background": "light"
     },
     "output_type": "display_data"
    },
    {
     "name": "stdout",
     "output_type": "stream",
     "text": [
      "[[ 19.31425324 -98.8955793 ]\n",
      " [ 19.32249564 -98.92852019]\n",
      " [ 19.33181738 -98.84728334]]\n"
     ]
    },
    {
     "data": {
      "text/html": [
       "<div>\n",
       "<style scoped>\n",
       "    .dataframe tbody tr th:only-of-type {\n",
       "        vertical-align: middle;\n",
       "    }\n",
       "\n",
       "    .dataframe tbody tr th {\n",
       "        vertical-align: top;\n",
       "    }\n",
       "\n",
       "    .dataframe thead th {\n",
       "        text-align: right;\n",
       "    }\n",
       "</style>\n",
       "<table border=\"1\" class=\"dataframe\">\n",
       "  <thead>\n",
       "    <tr style=\"text-align: right;\">\n",
       "      <th></th>\n",
       "      <th>Latitud</th>\n",
       "      <th>Longitud</th>\n",
       "    </tr>\n",
       "  </thead>\n",
       "  <tbody>\n",
       "    <tr>\n",
       "      <th>0</th>\n",
       "      <td>19.314253</td>\n",
       "      <td>-98.895579</td>\n",
       "    </tr>\n",
       "    <tr>\n",
       "      <th>1</th>\n",
       "      <td>19.322496</td>\n",
       "      <td>-98.928520</td>\n",
       "    </tr>\n",
       "    <tr>\n",
       "      <th>2</th>\n",
       "      <td>19.331817</td>\n",
       "      <td>-98.847283</td>\n",
       "    </tr>\n",
       "  </tbody>\n",
       "</table>\n",
       "</div>"
      ],
      "text/plain": [
       "     Latitud   Longitud\n",
       "0  19.314253 -98.895579\n",
       "1  19.322496 -98.928520\n",
       "2  19.331817 -98.847283"
      ]
     },
     "execution_count": 29,
     "metadata": {},
     "output_type": "execute_result"
    }
   ],
   "source": [
    "## Paso 2: Ubicacion de modulos\n",
    "\n",
    "def CalUbicacion(data):\n",
    "    modulos = []\n",
    "    X = np.array(data[['Latitud','Longitud']])\n",
    "    Y = np.array(data['Colonia'])\n",
    "    X.shape\n",
    "    nc = range(1,4)\n",
    "    kmeans = [KMeans(n_clusters=i)for i in nc]\n",
    "    kmeans\n",
    "    score = [kmeans[i].fit(X).score(X)for i in range(len(kmeans))]\n",
    "    score\n",
    "    plt.plot(nc,score)\n",
    "    plt.xlabel('ubic por modulo')\n",
    "    plt.ylabel('puntos')\n",
    "    plt.title('curva')\n",
    "    plt.show()\n",
    "    kmeans = KMeans(n_clusters=3).fit(X)\n",
    "    centroids = kmeans.cluster_centers_\n",
    "    print(centroids)\n",
    "    modulosCoordenadas = {\n",
    "        'Latitud' : [centroids[0,0], centroids[1,0],centroids[2,0]],\n",
    "        'Longitud': [centroids[0,1], centroids[1,1], centroids[2,1]]\n",
    "    }\n",
    "    modulos = pd.DataFrame(modulosCoordenadas)\n",
    "    modulos.head()\n",
    "    return modulos\n",
    "    \n",
    "mod = CalUbicacion(data)\n",
    "df = pd.DataFrame(data=mod, columns=['Latitud','Longitud'])\n",
    "df"
   ]
  },
  {
   "cell_type": "code",
   "execution_count": 30,
   "id": "c6b9b4c8",
   "metadata": {},
   "outputs": [
    {
     "data": {
      "text/html": [
       "<div>\n",
       "<style scoped>\n",
       "    .dataframe tbody tr th:only-of-type {\n",
       "        vertical-align: middle;\n",
       "    }\n",
       "\n",
       "    .dataframe tbody tr th {\n",
       "        vertical-align: top;\n",
       "    }\n",
       "\n",
       "    .dataframe thead th {\n",
       "        text-align: right;\n",
       "    }\n",
       "</style>\n",
       "<table border=\"1\" class=\"dataframe\">\n",
       "  <thead>\n",
       "    <tr style=\"text-align: right;\">\n",
       "      <th></th>\n",
       "      <th>Latitud</th>\n",
       "      <th>Longitud</th>\n",
       "    </tr>\n",
       "  </thead>\n",
       "  <tbody>\n",
       "    <tr>\n",
       "      <th>0</th>\n",
       "      <td>19.314253</td>\n",
       "      <td>-98.895579</td>\n",
       "    </tr>\n",
       "    <tr>\n",
       "      <th>1</th>\n",
       "      <td>19.322496</td>\n",
       "      <td>-98.928520</td>\n",
       "    </tr>\n",
       "    <tr>\n",
       "      <th>2</th>\n",
       "      <td>19.331817</td>\n",
       "      <td>-98.847283</td>\n",
       "    </tr>\n",
       "  </tbody>\n",
       "</table>\n",
       "</div>"
      ],
      "text/plain": [
       "     Latitud   Longitud\n",
       "0  19.314253 -98.895579\n",
       "1  19.322496 -98.928520\n",
       "2  19.331817 -98.847283"
      ]
     },
     "execution_count": 30,
     "metadata": {},
     "output_type": "execute_result"
    }
   ],
   "source": [
    "df"
   ]
  },
  {
   "cell_type": "code",
   "execution_count": 31,
   "id": "d8d929ec",
   "metadata": {},
   "outputs": [
    {
     "data": {
      "image/png": "[encoded data removed]",
      "text/plain": [
       "<Figure size 432x288 with 1 Axes>"
      ]
     },
     "metadata": {
      "needs_background": "light"
     },
     "output_type": "display_data"
    }
   ],
   "source": [
    "## Paso 3\n",
    "#Graficar las coordenadas propuesta para ver la relación con los otros municipios.\n",
    "\n",
    "plt.scatter(data['Latitud'], data['Longitud'])\n",
    "plt.scatter(df['Latitud'], df['Longitud'], marker='+', s=500)\n",
    "plt.xlabel(\"Latitud\")\n",
    "plt.ylabel(\"Longitud\")\n",
    "plt.show()"
   ]
  },
  {
   "cell_type": "code",
   "execution_count": 28,
   "id": "952c1a36",
   "metadata": {},
   "outputs": [],
   "source": [
    "#Guardar dataframe con los puntos de los modulos\n",
    "df.to_csv(\"resultados.csv\", index=False)\n"
   ]
  },
  {
   "cell_type": "code",
   "execution_count": null,
   "id": "017bff6b",
   "metadata": {},
   "outputs": [],
   "source": [
    "#saber registros por cada campo\n",
    "#print(data.groupby('Colonia').size())\n",
    "#print(data.groupby('Latitud').size())\n",
    "#print(data.groupby('Longitud').size())\n",
    "\n",
    "\n",
    "\n",
    "#f1 = data['Latitud'].values\n",
    "#f2 = data['Longitud'].values\n",
    "#plt.scatter(f1, f2, c=asignar, s=70)\n",
    "#plt.scatter(C[:,0], C[:2], maker='*', c=colores, s=1000)\n",
    "#plt.xlabel(\"Latitud\")\n",
    "#plt.ylabel(\"Longitud\")\n",
    "#plt.show()"
   ]
  },
  {
   "cell_type": "code",
   "execution_count": null,
   "id": "44864570",
   "metadata": {},
   "outputs": [],
   "source": [
    "print(centroids)\n",
    "type(centroids)"
   ]
  }
 ],
 "metadata": {
  "kernelspec": {
   "display_name": "Python 3",
   "language": "python",
   "name": "python3"
  },
  "language_info": {
   "codemirror_mode": {
    "name": "ipython",
    "version": 3
   },
   "file_extension": ".py",
   "mimetype": "text/x-python",
   "name": "python",
   "nbconvert_exporter": "python",
   "pygments_lexer": "ipython3",
   "version": "3.8.8"
  }
 },
 "nbformat": 4,
 "nbformat_minor": 5
}
